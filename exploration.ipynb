{
 "cells": [
  {
   "cell_type": "code",
   "execution_count": 1,
   "metadata": {
    "collapsed": true
   },
   "outputs": [],
   "source": [
    "import pandas as pd\n",
    "import numpy as np\n",
    "import matplotlib.pyplot as plt\n",
    "plt.style.use('ggplot')\n",
    "%matplotlib inline"
   ]
  },
  {
   "cell_type": "code",
   "execution_count": 2,
   "metadata": {
    "collapsed": false
   },
   "outputs": [
    {
     "data": {
      "text/html": [
       "<div>\n",
       "<table border=\"1\" class=\"dataframe\">\n",
       "  <thead>\n",
       "    <tr style=\"text-align: right;\">\n",
       "      <th></th>\n",
       "      <th>cj</th>\n",
       "      <th>doa</th>\n",
       "      <th>dor</th>\n",
       "      <th>gender</th>\n",
       "      <th>name</th>\n",
       "    </tr>\n",
       "  </thead>\n",
       "  <tbody>\n",
       "    <tr>\n",
       "      <th>186</th>\n",
       "      <td>True</td>\n",
       "      <td>1950-01-26</td>\n",
       "      <td>1951-06-11</td>\n",
       "      <td>M</td>\n",
       "      <td>Hon’ble Mr. Justice Harilal Jekisundas Kania</td>\n",
       "    </tr>\n",
       "    <tr>\n",
       "      <th>187</th>\n",
       "      <td>True</td>\n",
       "      <td>1950-01-26</td>\n",
       "      <td>1954-03-01</td>\n",
       "      <td>M</td>\n",
       "      <td>Hon’ble Mr. Justice M. Patanjali Sastri</td>\n",
       "    </tr>\n",
       "    <tr>\n",
       "      <th>190</th>\n",
       "      <td>True</td>\n",
       "      <td>1950-01-26</td>\n",
       "      <td>1959-09-30</td>\n",
       "      <td>M</td>\n",
       "      <td>Hon’ble Mr. Justice Sudhi Ranjan Das</td>\n",
       "    </tr>\n",
       "    <tr>\n",
       "      <th>28</th>\n",
       "      <td>False</td>\n",
       "      <td>1950-01-26</td>\n",
       "      <td>1951-09-18</td>\n",
       "      <td>M</td>\n",
       "      <td>Hon’ble Mr. Justice Sir Saiyid Fazl Ali</td>\n",
       "    </tr>\n",
       "    <tr>\n",
       "      <th>189</th>\n",
       "      <td>True</td>\n",
       "      <td>1950-01-26</td>\n",
       "      <td>1956-01-31</td>\n",
       "      <td>M</td>\n",
       "      <td>Hon’ble Mr. Justice Bijan Kumar Mukherjea</td>\n",
       "    </tr>\n",
       "  </tbody>\n",
       "</table>\n",
       "</div>"
      ],
      "text/plain": [
       "        cj        doa        dor gender  \\\n",
       "186   True 1950-01-26 1951-06-11      M   \n",
       "187   True 1950-01-26 1954-03-01      M   \n",
       "190   True 1950-01-26 1959-09-30      M   \n",
       "28   False 1950-01-26 1951-09-18      M   \n",
       "189   True 1950-01-26 1956-01-31      M   \n",
       "\n",
       "                                             name  \n",
       "186  Hon’ble Mr. Justice Harilal Jekisundas Kania  \n",
       "187       Hon’ble Mr. Justice M. Patanjali Sastri  \n",
       "190          Hon’ble Mr. Justice Sudhi Ranjan Das  \n",
       "28        Hon’ble Mr. Justice Sir Saiyid Fazl Ali  \n",
       "189     Hon’ble Mr. Justice Bijan Kumar Mukherjea  "
      ]
     },
     "execution_count": 2,
     "metadata": {},
     "output_type": "execute_result"
    }
   ],
   "source": [
    "df = pd.read_csv(\"judges.csv\", parse_dates=['doa', 'dor'])\n",
    "df.sort_values(\"doa\", inplace=True)\n",
    "df.head()"
   ]
  },
  {
   "cell_type": "code",
   "execution_count": 3,
   "metadata": {
    "collapsed": true
   },
   "outputs": [],
   "source": [
    "df['tenure_days'] = (df['dor'] - df['doa']).apply(lambda x: x.days) + 1\n",
    "year = df.doa.apply(lambda x: x.year)\n",
    "df['decade'] = (year // 10) * 10"
   ]
  },
  {
   "cell_type": "code",
   "execution_count": 4,
   "metadata": {
    "collapsed": false
   },
   "outputs": [],
   "source": [
    "males = df[df.gender == \"M\"]\n",
    "females = df[df.gender == \"F\"]"
   ]
  },
  {
   "cell_type": "code",
   "execution_count": 18,
   "metadata": {
    "collapsed": false
   },
   "outputs": [
    {
     "data": {
      "text/plain": [
       "5.501136433441857"
      ]
     },
     "execution_count": 18,
     "metadata": {},
     "output_type": "execute_result"
    }
   ],
   "source": [
    "males.tenure_days.mean() / 365"
   ]
  },
  {
   "cell_type": "code",
   "execution_count": 6,
   "metadata": {
    "collapsed": false
   },
   "outputs": [
    {
     "data": {
      "text/plain": [
       "1645.0"
      ]
     },
     "execution_count": 6,
     "metadata": {},
     "output_type": "execute_result"
    }
   ],
   "source": [
    "females.tenure_days.mean()"
   ]
  },
  {
   "cell_type": "code",
   "execution_count": 7,
   "metadata": {
    "collapsed": true
   },
   "outputs": [],
   "source": [
    "men_min = males.groupby('decade').agg(np.min)\n",
    "men_max = males.groupby('decade').agg(np.max)\n",
    "men_mean = males.groupby('decade').agg(np.mean)"
   ]
  },
  {
   "cell_type": "code",
   "execution_count": 8,
   "metadata": {
    "collapsed": false
   },
   "outputs": [
    {
     "data": {
      "text/plain": [
       "<matplotlib.legend.Legend at 0x115381da0>"
      ]
     },
     "execution_count": 8,
     "metadata": {},
     "output_type": "execute_result"
    },
    {
     "data": {
      "image/png": "[encoded data removed]",
      "text/plain": [
       "<matplotlib.figure.Figure at 0x112f54c18>"
      ]
     },
     "metadata": {},
     "output_type": "display_data"
    }
   ],
   "source": [
    "fig = plt.figure(figsize=(8, 6))\n",
    "fig.add_subplot(111)\n",
    "plt.plot(men_min.index, men_min['tenure_days'].values, \"g\", label=\"Minimum\")\n",
    "plt.scatter(men_min.index, men_min['tenure_days'].values, c=\"g\", marker=\"o\")\n",
    "plt.plot(men_max.index, men_max['tenure_days'].values, \"r\", label=\"Maximum\")\n",
    "plt.scatter(men_max.index, men_max['tenure_days'].values, c=\"r\", marker=\"o\")\n",
    "plt.plot(men_mean.index, men_mean['tenure_days'].values, \"k\", label=\"Mean\")\n",
    "plt.scatter(men_mean.index, men_mean['tenure_days'].values, c=\"k\", marker=\"o\")\n",
    "#plt.scatter(females['decade'].values, females['tenure_days'].values, marker=\"$\\u2640$\", s=200, label=\"Female Judges\")\n",
    "plt.xlabel(\"Decade\")\n",
    "plt.ylabel(\"Tenure in days\")\n",
    "plt.title(\"Tenures of SC Judges by Decade\")\n",
    "plt.legend(loc=\"best\")"
   ]
  },
  {
   "cell_type": "code",
   "execution_count": 9,
   "metadata": {
    "collapsed": false
   },
   "outputs": [
    {
     "data": {
      "text/plain": [
       "5.501136433441857"
      ]
     },
     "execution_count": 9,
     "metadata": {},
     "output_type": "execute_result"
    }
   ],
   "source": [
    "males.tenure_days.mean() / 365"
   ]
  },
  {
   "cell_type": "code",
   "execution_count": 10,
   "metadata": {
    "collapsed": false
   },
   "outputs": [
    {
     "data": {
      "text/plain": [
       "5.147945205479452"
      ]
     },
     "execution_count": 10,
     "metadata": {},
     "output_type": "execute_result"
    }
   ],
   "source": [
    "males.tenure_days.median() / 365"
   ]
  },
  {
   "cell_type": "code",
   "execution_count": 11,
   "metadata": {
    "collapsed": false
   },
   "outputs": [],
   "source": [
    "df['year'] = df['doa'].apply(lambda x: x.year)"
   ]
  },
  {
   "cell_type": "code",
   "execution_count": 12,
   "metadata": {
    "collapsed": true
   },
   "outputs": [],
   "source": [
    "males = df[df.gender == \"M\"]"
   ]
  },
  {
   "cell_type": "code",
   "execution_count": 13,
   "metadata": {
    "collapsed": false
   },
   "outputs": [],
   "source": [
    "post_89 = males[males.year >= 1989]"
   ]
  },
  {
   "cell_type": "code",
   "execution_count": 19,
   "metadata": {
    "collapsed": false
   },
   "outputs": [
    {
     "data": {
      "text/plain": [
       "5.200250967269685"
      ]
     },
     "execution_count": 19,
     "metadata": {},
     "output_type": "execute_result"
    }
   ],
   "source": [
    "post_89.tenure_days.mean() / 365"
   ]
  },
  {
   "cell_type": "code",
   "execution_count": 15,
   "metadata": {
    "collapsed": false
   },
   "outputs": [
    {
     "data": {
      "text/plain": [
       "4.964383561643835"
      ]
     },
     "execution_count": 15,
     "metadata": {},
     "output_type": "execute_result"
    }
   ],
   "source": [
    "post_89.tenure_days.median() / 365"
   ]
  },
  {
   "cell_type": "code",
   "execution_count": 16,
   "metadata": {
    "collapsed": false
   },
   "outputs": [
    {
     "data": {
      "text/plain": [
       "<matplotlib.legend.Legend at 0x115de4b00>"
      ]
     },
     "execution_count": 16,
     "metadata": {},
     "output_type": "execute_result"
    },
    {
     "data": {
      "image/png": "[encoded data removed]",
      "text/plain": [
       "<matplotlib.figure.Figure at 0x10492a7f0>"
      ]
     },
     "metadata": {},
     "output_type": "display_data"
    }
   ],
   "source": [
    "ax = males.tenure_days.hist(bins=50)\n",
    "ax.vlines(males.tenure_days.median(), 0, 21., label=\"median\", colors=\"b\")\n",
    "ax.vlines(males.tenure_days.mean(), 0, 21., label=\"mean\", colors=\"g\")\n",
    "ax.legend()"
   ]
  },
  {
   "cell_type": "code",
   "execution_count": 17,
   "metadata": {
    "collapsed": false
   },
   "outputs": [
    {
     "ename": "NameError",
     "evalue": "name 'cj' is not defined",
     "output_type": "error",
     "traceback": [
      "\u001b[0;31m---------------------------------------------------------------------------\u001b[0m",
      "\u001b[0;31mNameError\u001b[0m                                 Traceback (most recent call last)",
      "\u001b[0;32m<ipython-input-17-27a5bfb957a1>\u001b[0m in \u001b[0;36m<module>\u001b[0;34m()\u001b[0m\n\u001b[0;32m----> 1\u001b[0;31m \u001b[0mcj_tenures\u001b[0m \u001b[0;34m=\u001b[0m \u001b[0mcj\u001b[0m\u001b[0;34m.\u001b[0m\u001b[0mset_index\u001b[0m\u001b[0;34m(\u001b[0m\u001b[0;34m\"name\"\u001b[0m\u001b[0;34m)\u001b[0m\u001b[0;34m[\u001b[0m\u001b[0;34m'tenure_days'\u001b[0m\u001b[0;34m]\u001b[0m\u001b[0;34m\u001b[0m\u001b[0m\n\u001b[0m",
      "\u001b[0;31mNameError\u001b[0m: name 'cj' is not defined"
     ]
    }
   ],
   "source": [
    "cj_tenures = cj.set_index(\"name\")['tenure_days']"
   ]
  },
  {
   "cell_type": "code",
   "execution_count": null,
   "metadata": {
    "collapsed": false
   },
   "outputs": [],
   "source": [
    "cj_tenures.plot(kind=\"barh\")\n",
    "plt.tight_layout()"
   ]
  },
  {
   "cell_type": "code",
   "execution_count": null,
   "metadata": {
    "collapsed": false
   },
   "outputs": [],
   "source": [
    "cj_tenures.mean() / 365"
   ]
  },
  {
   "cell_type": "code",
   "execution_count": null,
   "metadata": {
    "collapsed": true
   },
   "outputs": [],
   "source": []
  }
 ],
 "metadata": {
  "anaconda-cloud": {},
  "kernelspec": {
   "display_name": "Python [default]",
   "language": "python",
   "name": "python3"
  },
  "language_info": {
   "codemirror_mode": {
    "name": "ipython",
    "version": 3
   },
   "file_extension": ".py",
   "mimetype": "text/x-python",
   "name": "python",
   "nbconvert_exporter": "python",
   "pygments_lexer": "ipython3",
   "version": "3.5.2"
  }
 },
 "nbformat": 4,
 "nbformat_minor": 1
}
